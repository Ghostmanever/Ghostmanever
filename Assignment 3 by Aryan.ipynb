{
 "cells": [
  {
   "cell_type": "markdown",
   "id": "481a4709-4693-44d2-9696-86bf64fd8312",
   "metadata": {},
   "source": [
    "# Assignment-3 by Aryan"
   ]
  },
  {
   "cell_type": "markdown",
   "id": "62cd9f7d-d6a1-4df8-9592-937d1d88026c",
   "metadata": {},
   "source": [
    "## Date - 12.9.2023\n",
    "## Aryan Kaushal"
   ]
  },
  {
   "cell_type": "markdown",
   "id": "da752093-0ad7-4aee-b990-e632d664ccad",
   "metadata": {},
   "source": [
    "# Question-1"
   ]
  },
  {
   "cell_type": "code",
   "execution_count": 3,
   "id": "e57e0db1-7cc7-4c3b-9c22-38e283a33b03",
   "metadata": {},
   "outputs": [
    {
     "name": "stdout",
     "output_type": "stream",
     "text": [
      "30\n"
     ]
    }
   ],
   "source": [
    "Multi = lambda a, b: a * b\n",
    "print(Multi(5, 6))\n"
   ]
  },
  {
   "cell_type": "markdown",
   "id": "620e72e9-360c-4d41-857b-677cf51bc567",
   "metadata": {},
   "source": [
    "# Question-2"
   ]
  },
  {
   "cell_type": "code",
   "execution_count": 7,
   "id": "dcd2e7bc-8cb1-4ace-b243-7d74486ec261",
   "metadata": {},
   "outputs": [
    {
     "name": "stdout",
     "output_type": "stream",
     "text": [
      "314.1592653589793\n"
     ]
    }
   ],
   "source": [
    "import math\n",
    "\n",
    "def area_of_circle(radius):\n",
    "    return math.pi * radius ** 2\n",
    "print(area_of_circle(10))\n"
   ]
  },
  {
   "cell_type": "markdown",
   "id": "22f24888-9747-4394-82e3-d2794a733440",
   "metadata": {},
   "source": [
    "# Question-3"
   ]
  },
  {
   "cell_type": "code",
   "execution_count": 29,
   "id": "629a9e20-f393-488c-adf5-8d5e39195b10",
   "metadata": {},
   "outputs": [
    {
     "name": "stdout",
     "output_type": "stream",
     "text": [
      "0.4\n"
     ]
    }
   ],
   "source": [
    "def calculator(n1, n2, operation):\n",
    "    if operation == 'a':\n",
    "         return n1 + n2\n",
    "    elif operation == 's':\n",
    "         return n1 - n2\n",
    "    elif operation == 'm':\n",
    "         return n1 * n2\n",
    "    elif operation == 'd':\n",
    "        if n2 != 0:\n",
    "             return n1 / n2\n",
    "        else:\n",
    "             return \"Error: Division by zero is not allowed\"\n",
    "    else:\n",
    "         return \"Error: Invalid operation\"\n",
    "print(calculator(2, 5, 'd'))\n"
   ]
  },
  {
   "cell_type": "markdown",
   "id": "b54fcfd2-a380-4056-ae3f-e02b0a69c2e2",
   "metadata": {},
   "source": [
    "# Question-4"
   ]
  },
  {
   "cell_type": "code",
   "execution_count": 28,
   "id": "f7a5c78b-82a8-4b68-b873-95e1abd7e22a",
   "metadata": {},
   "outputs": [
    {
     "name": "stdout",
     "output_type": "stream",
     "text": [
      "50\n"
     ]
    }
   ],
   "source": [
    "class Rectangle:\n",
    "    def __init__(self, length, width):\n",
    "        self.length = length\n",
    "        self.width = width\n",
    "\n",
    "    def area(self):\n",
    "        return self.length * self.width\n",
    "r = Rectangle(5, 10)\n",
    "print(r.area())\n"
   ]
  },
  {
   "cell_type": "markdown",
   "id": "f6b8ab71-9459-4b71-98da-b55931bac07f",
   "metadata": {},
   "source": [
    "# Question-5"
   ]
  },
  {
   "cell_type": "code",
   "execution_count": 35,
   "id": "6d40f43d-cac2-4aa5-a78a-5457e6cc6ef7",
   "metadata": {},
   "outputs": [
    {
     "name": "stdout",
     "output_type": "stream",
     "text": [
      "The area is:\n",
      "25\n",
      "This is a: square\n"
     ]
    }
   ],
   "source": [
    "class Shape:\n",
    "    def __init__(self, name, length):\n",
    "        self.name = name\n",
    "        self.length = length\n",
    "\n",
    "    def area(self):\n",
    "        return 0\n",
    "\n",
    "    def describe(self):\n",
    "        return \"This is a: {self.name}\"\n",
    "\n",
    "class Square(Shape):\n",
    "    def __init__(self, name, length):\n",
    "        super().__init__(name, length)\n",
    "\n",
    "    def area(self):\n",
    "        return self.length ** 2\n",
    "\n",
    "X = Square('square', 5)\n",
    "print(\"The area is:\")\n",
    "print(s.area())\n",
    "print(s.describe())\n"
   ]
  },
  {
   "cell_type": "code",
   "execution_count": null,
   "id": "fcd277b7-6f06-4d54-97cc-0a3f263a4e39",
   "metadata": {},
   "outputs": [],
   "source": []
  }
 ],
 "metadata": {
  "kernelspec": {
   "display_name": "Python 3 (ipykernel)",
   "language": "python",
   "name": "python3"
  },
  "language_info": {
   "codemirror_mode": {
    "name": "ipython",
    "version": 3
   },
   "file_extension": ".py",
   "mimetype": "text/x-python",
   "name": "python",
   "nbconvert_exporter": "python",
   "pygments_lexer": "ipython3",
   "version": "3.11.5"
  }
 },
 "nbformat": 4,
 "nbformat_minor": 5
}
